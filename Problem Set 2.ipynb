{
 "cells": [
  {
   "cell_type": "markdown",
   "id": "4e2e7f79",
   "metadata": {},
   "source": [
    "# Problem Set 2\n",
    "This problem set is based on lectures 4,5 and 6. For a complete list of topics please\n",
    "consult page 2 of the course syllabus. Please consult the “Instructions for Problem\n",
    "Set Submissions” document under course information before submitting your\n",
    "assignment"
   ]
  },
  {
   "cell_type": "markdown",
   "id": "12bdd4b2",
   "metadata": {},
   "source": [
    "# Question 1\n",
    "Consider the following Python module:\n",
    "a = 0\n",
    "def b():\n",
    "global a\n",
    "a = c(a)\n",
    "def c(a):\n",
    "return a + 2\n",
    "After importing the module into the interpreter, you execute:\n",
    "* b()\n",
    "* b()\n",
    "* b()\n",
    "* a\n",
    "?\n",
    "<br>\n",
    "What value is displayed when the last expression (a) is evaluated? Explain your\n",
    "answer by indicating what happens in every executed statement."
   ]
  },
  {
   "cell_type": "code",
   "execution_count": 57,
   "id": "18e021a1",
   "metadata": {},
   "outputs": [
    {
     "data": {
      "text/plain": [
       "6"
      ]
     },
     "execution_count": 57,
     "metadata": {},
     "output_type": "execute_result"
    }
   ],
   "source": [
    "a = 0\n",
    "\n",
    "def b():\n",
    "    global a\n",
    "    a= c(a)\n",
    "    \n",
    "def c(a):\n",
    "    return a+2\n",
    "b() \n",
    "b() \n",
    "b() \n",
    "a"
   ]
  },
  {
   "cell_type": "code",
   "execution_count": null,
   "id": "6fbe4d00",
   "metadata": {},
   "outputs": [],
   "source": [
    "#ANSWER\n",
    "When the last expression 'a' is evaluated, 6 will be displayed.\n",
    "\n",
    "#answer by indicating what happens in every executed statement\n",
    "1. a=0 -> a variable is initialized with value 0\n",
    "2. def b() -> function b is defined\n",
    "3. global a -> inside the function a global variable a is declared\n",
    "4. a=c(a) in the function, c(a) function with the current value of a, which is 0. the c(a) function returns a + 2, so a is updated to 0 + 2, which is 2.\n",
    "5. b() is called again. The function is executed again and the same process repeats\n",
    "6. b() is once again called. a is updated from 4 to 6\n",
    "7. At the end, a is evalueted after 3 calls to b(). a now holds 6. So, 6 is displayed"
   ]
  },
  {
   "cell_type": "markdown",
   "id": "8eec0cd1",
   "metadata": {},
   "source": [
    "# Question 2 \n",
    "\n",
    "Function fileLength(), given to you, takes the name of a file as input and returns the length of the file:\n"
   ]
  },
  {
   "cell_type": "code",
   "execution_count": 43,
   "id": "f9eb01cc",
   "metadata": {},
   "outputs": [
    {
     "name": "stdout",
     "output_type": "stream",
     "text": [
      "396\n"
     ]
    }
   ],
   "source": [
    "def file_length(file_name):\n",
    "    file = open(file_name)\n",
    "    contents = file.read()\n",
    "    file.close()\n",
    "    print(len(contents))\n",
    "file_length(\"W3c.txt\")"
   ]
  },
  {
   "cell_type": "code",
   "execution_count": 44,
   "id": "9b6b8317",
   "metadata": {},
   "outputs": [
    {
     "ename": "FileNotFoundError",
     "evalue": "[Errno 2] No such file or directory: 'wc.txt'",
     "output_type": "error",
     "traceback": [
      "\u001b[1;31m---------------------------------------------------------------------------\u001b[0m",
      "\u001b[1;31mFileNotFoundError\u001b[0m                         Traceback (most recent call last)",
      "Cell \u001b[1;32mIn[44], line 1\u001b[0m\n\u001b[1;32m----> 1\u001b[0m file_length(\u001b[38;5;124m\"\u001b[39m\u001b[38;5;124mwc.txt\u001b[39m\u001b[38;5;124m\"\u001b[39m)\n",
      "Cell \u001b[1;32mIn[43], line 2\u001b[0m, in \u001b[0;36mfile_length\u001b[1;34m(file_name)\u001b[0m\n\u001b[0;32m      1\u001b[0m \u001b[38;5;28;01mdef\u001b[39;00m \u001b[38;5;21mfile_length\u001b[39m(file_name):\n\u001b[1;32m----> 2\u001b[0m     file \u001b[38;5;241m=\u001b[39m \u001b[38;5;28mopen\u001b[39m(file_name)\n\u001b[0;32m      3\u001b[0m     contents \u001b[38;5;241m=\u001b[39m file\u001b[38;5;241m.\u001b[39mread()\n\u001b[0;32m      4\u001b[0m     file\u001b[38;5;241m.\u001b[39mclose()\n",
      "File \u001b[1;32mC:\\ProgramData\\anaconda3\\Lib\\site-packages\\IPython\\core\\interactiveshell.py:284\u001b[0m, in \u001b[0;36m_modified_open\u001b[1;34m(file, *args, **kwargs)\u001b[0m\n\u001b[0;32m    277\u001b[0m \u001b[38;5;28;01mif\u001b[39;00m file \u001b[38;5;129;01min\u001b[39;00m {\u001b[38;5;241m0\u001b[39m, \u001b[38;5;241m1\u001b[39m, \u001b[38;5;241m2\u001b[39m}:\n\u001b[0;32m    278\u001b[0m     \u001b[38;5;28;01mraise\u001b[39;00m \u001b[38;5;167;01mValueError\u001b[39;00m(\n\u001b[0;32m    279\u001b[0m         \u001b[38;5;124mf\u001b[39m\u001b[38;5;124m\"\u001b[39m\u001b[38;5;124mIPython won\u001b[39m\u001b[38;5;124m'\u001b[39m\u001b[38;5;124mt let you open fd=\u001b[39m\u001b[38;5;132;01m{\u001b[39;00mfile\u001b[38;5;132;01m}\u001b[39;00m\u001b[38;5;124m by default \u001b[39m\u001b[38;5;124m\"\u001b[39m\n\u001b[0;32m    280\u001b[0m         \u001b[38;5;124m\"\u001b[39m\u001b[38;5;124mas it is likely to crash IPython. If you know what you are doing, \u001b[39m\u001b[38;5;124m\"\u001b[39m\n\u001b[0;32m    281\u001b[0m         \u001b[38;5;124m\"\u001b[39m\u001b[38;5;124myou can use builtins\u001b[39m\u001b[38;5;124m'\u001b[39m\u001b[38;5;124m open.\u001b[39m\u001b[38;5;124m\"\u001b[39m\n\u001b[0;32m    282\u001b[0m     )\n\u001b[1;32m--> 284\u001b[0m \u001b[38;5;28;01mreturn\u001b[39;00m io_open(file, \u001b[38;5;241m*\u001b[39margs, \u001b[38;5;241m*\u001b[39m\u001b[38;5;241m*\u001b[39mkwargs)\n",
      "\u001b[1;31mFileNotFoundError\u001b[0m: [Errno 2] No such file or directory: 'wc.txt'"
     ]
    }
   ],
   "source": [
    "file_length(\"wc.txt\")"
   ]
  },
  {
   "cell_type": "code",
   "execution_count": 47,
   "id": "662929cc",
   "metadata": {},
   "outputs": [
    {
     "name": "stdout",
     "output_type": "stream",
     "text": [
      "The file wc.txt was not found\n"
     ]
    }
   ],
   "source": [
    "def file_length(file_name):\n",
    "    try:\n",
    "        file = open(file_name)\n",
    "        content = file.read()\n",
    "        file.close()\n",
    "        print(len(contents))\n",
    "    except FileNotFoundError:\n",
    "        print(\"The file {} was not found\".format(file_name))\n",
    "file_length(\"wc.txt\")"
   ]
  },
  {
   "cell_type": "markdown",
   "id": "4d5cb87f",
   "metadata": {},
   "source": [
    "# Question 3\n",
    "\n",
    "Write a class named Marsupial that can be used as shown below:\n",
    "* m = Marsupial()\n",
    "* m.put_in_pouch('doll')\n",
    "* m.put_in_pouch('firetruck')\n",
    "* m.put_in_pouch('kitten')\n",
    "* m.pouch_contents()\n",
    "* ['doll', 'firetruck', 'kitten']"
   ]
  },
  {
   "cell_type": "code",
   "execution_count": 51,
   "id": "2039ef4c",
   "metadata": {},
   "outputs": [
    {
     "name": "stdout",
     "output_type": "stream",
     "text": [
      "['test', 'firetruck', 'kitten']\n"
     ]
    }
   ],
   "source": [
    "class Marsupial:\n",
    "    def __init__(self):\n",
    "        self.collection_lst = []\n",
    "    \n",
    "    def put_in_pouch(self,collection):\n",
    "        self.collection_lst.append(collection)\n",
    "        \n",
    "    def pouch_content(self):\n",
    "        print(self.collection_lst)\n",
    "m =Marsupial()\n",
    "m.put_in_pouch(\"test\")\n",
    "m.put_in_pouch(\"firetruck\")\n",
    "m.put_in_pouch(\"kitten\")\n",
    "\n",
    "m.pouch_content()"
   ]
  },
  {
   "cell_type": "markdown",
   "id": "36c444b0",
   "metadata": {},
   "source": [
    "Now write a class named Kangaroo as a subclass of Marsupial that inherits all the \n",
    "attributes of Marsupial and also:\n",
    "a. extends the Marsupial __init__ constructor to take, as input, the \n",
    "coordinates x and y of the Kangaroo object,\n",
    "b. supports method jump that takes number values dx and dy as input and \n",
    "moves the kangaroo by dx units along the x-axis and by dy units along the y\u0002axis, and\n",
    "c. overloads the __str__ operator so it behaves as shown below."
   ]
  },
  {
   "cell_type": "code",
   "execution_count": 53,
   "id": "8ee985cd",
   "metadata": {},
   "outputs": [
    {
     "name": "stdout",
     "output_type": "stream",
     "text": [
      "I am a Kangaroo located at coordinate (0,0)\n"
     ]
    }
   ],
   "source": [
    "class Kangaroo(Marsupial):\n",
    "    def __init__(self, x,y):\n",
    "        super().__init__()  \n",
    "        self.x=x\n",
    "        self.y=y\n",
    "        \n",
    "    def jump(self,dx,dy):\n",
    "        self.x+=dx\n",
    "        self.y+=dy\n",
    "    \n",
    "    def __str__(self):\n",
    "        return \"I am a Kangaroo located at coordinate ({},{})\".format(self.x,self.y)\n",
    "\n",
    "k = Kangaroo(0,0)\n",
    "\n",
    "print(k)"
   ]
  },
  {
   "cell_type": "code",
   "execution_count": 54,
   "id": "29f0c572",
   "metadata": {},
   "outputs": [
    {
     "name": "stdout",
     "output_type": "stream",
     "text": [
      "['doll', 'firetruck', 'kitten']\n"
     ]
    }
   ],
   "source": [
    "k.put_in_pouch(\"doll\")\n",
    "k.put_in_pouch(\"firetruck\")\n",
    "k.put_in_pouch(\"kitten\")\n",
    "k.pouch_content()"
   ]
  },
  {
   "cell_type": "code",
   "execution_count": 55,
   "id": "46dcd2aa",
   "metadata": {},
   "outputs": [
    {
     "name": "stdout",
     "output_type": "stream",
     "text": [
      "I am a Kangaroo located at coordinate (3,0)\n"
     ]
    }
   ],
   "source": [
    "k.jump(1,0)\n",
    "k.jump(1,0)\n",
    "k.jump(1,0)\n",
    "\n",
    "print(k)"
   ]
  },
  {
   "cell_type": "markdown",
   "id": "b3f62d80",
   "metadata": {},
   "source": [
    "# Question 4\n",
    "\n",
    "Write function collatz() that takes a positive integer x as input and prints the \n",
    "Collatz sequence starting at x. A Collatz sequence is obtained by repeatedly applying \n",
    "this rule to the previous number x in the sequence:\n",
    "x = {\n",
    "𝑥/2 𝑖𝑓 𝑥 𝑖𝑠 𝑒𝑣𝑒𝑛\n",
    "3𝑥 + 1 𝑖𝑓 𝑥 𝑖𝑠 𝑜𝑑𝑑\n",
    "Your function should stop when the sequence gets to number 1. Your \n",
    "implementation must be recursive, without any loops"
   ]
  },
  {
   "cell_type": "code",
   "execution_count": 36,
   "id": "7474737a",
   "metadata": {},
   "outputs": [
    {
     "name": "stdout",
     "output_type": "stream",
     "text": [
      "1\n"
     ]
    }
   ],
   "source": [
    "def collatz(x):\n",
    "    print(x)\n",
    "    \n",
    "    if x == 1:\n",
    "        return\n",
    "    \n",
    "    if x % 2 == 0:\n",
    "        collatz(x // 2)\n",
    "    else:\n",
    "        collatz(3 * x + 1)\n",
    "\n",
    "collatz(1)"
   ]
  },
  {
   "cell_type": "code",
   "execution_count": 37,
   "id": "72790288",
   "metadata": {},
   "outputs": [
    {
     "name": "stdout",
     "output_type": "stream",
     "text": [
      "6\n",
      "3\n",
      "10\n",
      "5\n",
      "16\n",
      "8\n",
      "4\n",
      "2\n",
      "1\n"
     ]
    }
   ],
   "source": [
    "collatz(6)"
   ]
  },
  {
   "cell_type": "markdown",
   "id": "49584b9e",
   "metadata": {},
   "source": [
    "# Question 5"
   ]
  },
  {
   "cell_type": "code",
   "execution_count": 1,
   "id": "cc696f88",
   "metadata": {},
   "outputs": [
    {
     "name": "stdout",
     "output_type": "stream",
     "text": [
      "Enter a non-negative integer: 3\n",
      "The binary representation is: 011"
     ]
    }
   ],
   "source": [
    "def binary(n):\n",
    "    if n == 0:\n",
    "        print(0, end='')\n",
    "    else:\n",
    "        binary(n // 2)\n",
    "        print(n % 2, end='')\n",
    "\n",
    "number = int(input(\"Enter a non-negative integer: \"))\n",
    "print(\"The binary representation is:\", end=' ')\n",
    "binary(number)"
   ]
  },
  {
   "cell_type": "markdown",
   "id": "f700c698",
   "metadata": {},
   "source": [
    "# Question 8\n"
   ]
  },
  {
   "cell_type": "code",
   "execution_count": null,
   "id": "f2f822e0",
   "metadata": {},
   "outputs": [],
   "source": [
    "#a. All the temperature data:\n",
    "SELECT Temperature FROM given_table;\n",
    "\n",
    "#b) All the cities, but without repetition.\n",
    "SELECT DISTINCT City FROM given_table;\n",
    "\n",
    "#c) All the records for India.\n",
    "SELECT * FROM given_table WHERE Country = 'India';\n",
    "\n",
    "#d) All the Fall records.\n",
    "SELECT * FROM given_table_name WHERE Season = 'Fall';\n",
    "\n",
    "#e) The city, country, and season for which the average rainfall is between 200 and 400 millimeters:\n",
    "SELECT City, Country, Season FROM given_table GROUP BY City, Country, Season HAVING AVG(Rainfall) BETWEEN 200 AND 400;\n",
    "\n",
    "#f) The city and country for which the average Fall temperature is above 20 degrees, in increasing temperature order:\n",
    "SELECT City, Country FROM given_table WHERE Season = 'Fall' GROUP BY City, Country HAVING AVG(Temperature) > 20 ORDER BY AVG(Temperature) ASC;\n",
    "\n",
    "#g) The total annual rainfall for Cairo:\n",
    "SELECT City, Country, Season, AVG(Rainfall) AS TotalRainfall FROM given_table WHERE City = 'Cairo'GROUP BY City, Country, Season;\n",
    "\n",
    "#h) The total rainfall for each season:\n",
    "SELECT Season, AVG(Rainfall) AS TotalRainfall FROM given_table GROUP BY Season;"
   ]
  },
  {
   "cell_type": "markdown",
   "id": "f61c2da0",
   "metadata": {},
   "source": [
    "# Question 9\n",
    "\n",
    "Suppose list words is defined as follows:\n",
    "<br> words = ['The', 'quick', 'brown', 'fox', 'jumps', 'over','the', 'lazy', 'dog']\n",
    "\n",
    "<br>Write list comprehension expressions that use list words and generate the following lists:\n",
    "\n",
    "<br>a.['THE', 'QUICK', 'BROWN', 'FOX', 'JUMPS', 'OVER', 'THE','LAZY', 'DOG']"
   ]
  },
  {
   "cell_type": "code",
   "execution_count": 13,
   "id": "b13c775d",
   "metadata": {},
   "outputs": [
    {
     "name": "stdout",
     "output_type": "stream",
     "text": [
      "['THE', 'QUICK', 'BROWN', 'FOX', 'JUMPS', 'OVER', 'THE', 'LAZY', 'DOG']\n"
     ]
    }
   ],
   "source": [
    "words = ['The', 'quick', 'brown', 'fox', 'jumps', 'over','the', 'lazy', 'dog']\n",
    "upper_words=[]\n",
    "for w in words:\n",
    "    upper_words.append(w.upper())\n",
    "print(upper_words)"
   ]
  },
  {
   "cell_type": "markdown",
   "id": "bcbdf741",
   "metadata": {},
   "source": [
    "b. ['the', 'quick', 'brown', 'fox', 'jumps', 'over', 'the','lazy', 'dog']\n"
   ]
  },
  {
   "cell_type": "code",
   "execution_count": 15,
   "id": "d403dd7f",
   "metadata": {},
   "outputs": [
    {
     "name": "stdout",
     "output_type": "stream",
     "text": [
      "['the', 'quick', 'brown', 'fox', 'jumps', 'over', 'the', 'lazy', 'dog']\n"
     ]
    }
   ],
   "source": [
    "lower_words =[]\n",
    "for w in words:\n",
    "    lower_words.append(w.lower())\n",
    "print(lower_words)"
   ]
  },
  {
   "cell_type": "markdown",
   "id": "d0e47930",
   "metadata": {},
   "source": [
    "c. [3, 5, 5, 3, 5, 4, 3, 4, 3] (the list of lengths of words in list words)."
   ]
  },
  {
   "cell_type": "code",
   "execution_count": 19,
   "id": "7bb62d2b",
   "metadata": {},
   "outputs": [
    {
     "name": "stdout",
     "output_type": "stream",
     "text": [
      "[3, 5, 5, 3, 5, 4, 3, 4, 3]\n"
     ]
    }
   ],
   "source": [
    "count =[]\n",
    "for w in words:\n",
    "    count.append(len(w))\n",
    "print(count)"
   ]
  },
  {
   "cell_type": "markdown",
   "id": "36eb06ce",
   "metadata": {},
   "source": [
    "[['THE', 'the', 3], ['QUICK', 'quick', 5], ['BROWN', \n",
    "'brown', 5], ['FOX', 'fox', 3], ['JUMPS', 'jumps', 5], \n",
    "['OVER', 'over', 4], ['THE', 'the', 3], ['LAZY', 'lazy', \n",
    "4], ['DOG', 'dog', 3]] (the list containing a list for every word of list \n",
    "words, where each list contains the word in uppercase and lowercase and the \n",
    "length of the word.)"
   ]
  },
  {
   "cell_type": "code",
   "execution_count": 24,
   "id": "40d0009d",
   "metadata": {},
   "outputs": [
    {
     "name": "stdout",
     "output_type": "stream",
     "text": [
      "[['THE', 'the', 3], ['QUICK', 'quick', 5], ['BROWN', 'brown', 5], ['FOX', 'fox', 3], ['JUMPS', 'jumps', 5], ['OVER', 'over', 4], ['THE', 'the', 3], ['LAZY', 'lazy', 4], ['DOG', 'dog', 3]]\n"
     ]
    }
   ],
   "source": [
    "final_list = []\n",
    "for w in words:\n",
    "    info = [w.upper(), w.lower(), len(w)]\n",
    "    final_list.append(info)\n",
    "print(final_list)"
   ]
  },
  {
   "cell_type": "code",
   "execution_count": 27,
   "id": "037dc305",
   "metadata": {},
   "outputs": [
    {
     "name": "stdout",
     "output_type": "stream",
     "text": [
      "['quick', 'brown', 'jumps', 'over', 'lazy']\n"
     ]
    }
   ],
   "source": [
    "four_character_words =[]\n",
    "for w in words:\n",
    "    if len(w)>= 4:\n",
    "        four_character_words.append(w)\n",
    "print (four_character_words)"
   ]
  }
 ],
 "metadata": {
  "kernelspec": {
   "display_name": "Python 3 (ipykernel)",
   "language": "python",
   "name": "python3"
  },
  "language_info": {
   "codemirror_mode": {
    "name": "ipython",
    "version": 3
   },
   "file_extension": ".py",
   "mimetype": "text/x-python",
   "name": "python",
   "nbconvert_exporter": "python",
   "pygments_lexer": "ipython3",
   "version": "3.11.4"
  }
 },
 "nbformat": 4,
 "nbformat_minor": 5
}
